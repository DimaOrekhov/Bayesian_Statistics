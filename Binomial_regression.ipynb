{
 "cells": [
  {
   "cell_type": "code",
   "execution_count": 52,
   "metadata": {},
   "outputs": [],
   "source": [
    "library(rethinking)\n",
    "library(MASS)"
   ]
  },
  {
   "cell_type": "code",
   "execution_count": 53,
   "metadata": {},
   "outputs": [],
   "source": [
    "data(eagles)\n",
    "eagles[,3:5] <- sapply(eagles[, 3:5], as.character)"
   ]
  },
  {
   "cell_type": "markdown",
   "metadata": {},
   "source": [
    "$y$ - number of successful attempts\n",
    "\n",
    "$n$ - total number of attempts\n",
    "\n",
    "$P$ - size of pirating eagle (Large or Small)\n",
    "\n",
    "$A$ - age of pirating eagle (Immature or Adult)\n",
    "\n",
    "$V$ - size of victim eagle (Large or Small)"
   ]
  },
  {
   "cell_type": "code",
   "execution_count": 54,
   "metadata": {},
   "outputs": [
    {
     "data": {
      "text/html": [
       "<ol class=list-inline>\n",
       "\t<li>8</li>\n",
       "\t<li>5</li>\n",
       "</ol>\n"
      ],
      "text/latex": [
       "\\begin{enumerate*}\n",
       "\\item 8\n",
       "\\item 5\n",
       "\\end{enumerate*}\n"
      ],
      "text/markdown": [
       "1. 8\n",
       "2. 5\n",
       "\n",
       "\n"
      ],
      "text/plain": [
       "[1] 8 5"
      ]
     },
     "metadata": {},
     "output_type": "display_data"
    },
    {
     "data": {
      "text/html": [
       "<table>\n",
       "<thead><tr><th scope=col>y</th><th scope=col>n</th><th scope=col>P</th><th scope=col>A</th><th scope=col>V</th></tr></thead>\n",
       "<tbody>\n",
       "\t<tr><td>17</td><td>24</td><td>L </td><td>A </td><td>L </td></tr>\n",
       "\t<tr><td>29</td><td>29</td><td>L </td><td>A </td><td>S </td></tr>\n",
       "\t<tr><td>17</td><td>27</td><td>L </td><td>I </td><td>L </td></tr>\n",
       "\t<tr><td>20</td><td>20</td><td>L </td><td>I </td><td>S </td></tr>\n",
       "\t<tr><td> 1</td><td>12</td><td>S </td><td>A </td><td>L </td></tr>\n",
       "\t<tr><td>15</td><td>16</td><td>S </td><td>A </td><td>S </td></tr>\n",
       "\t<tr><td> 0</td><td>28</td><td>S </td><td>I </td><td>L </td></tr>\n",
       "\t<tr><td> 1</td><td> 4</td><td>S </td><td>I </td><td>S </td></tr>\n",
       "</tbody>\n",
       "</table>\n"
      ],
      "text/latex": [
       "\\begin{tabular}{r|lllll}\n",
       " y & n & P & A & V\\\\\n",
       "\\hline\n",
       "\t 17 & 24 & L  & A  & L \\\\\n",
       "\t 29 & 29 & L  & A  & S \\\\\n",
       "\t 17 & 27 & L  & I  & L \\\\\n",
       "\t 20 & 20 & L  & I  & S \\\\\n",
       "\t  1 & 12 & S  & A  & L \\\\\n",
       "\t 15 & 16 & S  & A  & S \\\\\n",
       "\t  0 & 28 & S  & I  & L \\\\\n",
       "\t  1 &  4 & S  & I  & S \\\\\n",
       "\\end{tabular}\n"
      ],
      "text/markdown": [
       "\n",
       "y | n | P | A | V | \n",
       "|---|---|---|---|---|---|---|---|\n",
       "| 17 | 24 | L  | A  | L  | \n",
       "| 29 | 29 | L  | A  | S  | \n",
       "| 17 | 27 | L  | I  | L  | \n",
       "| 20 | 20 | L  | I  | S  | \n",
       "|  1 | 12 | S  | A  | L  | \n",
       "| 15 | 16 | S  | A  | S  | \n",
       "|  0 | 28 | S  | I  | L  | \n",
       "|  1 |  4 | S  | I  | S  | \n",
       "\n",
       "\n"
      ],
      "text/plain": [
       "  y  n  P A V\n",
       "1 17 24 L A L\n",
       "2 29 29 L A S\n",
       "3 17 27 L I L\n",
       "4 20 20 L I S\n",
       "5  1 12 S A L\n",
       "6 15 16 S A S\n",
       "7  0 28 S I L\n",
       "8  1  4 S I S"
      ]
     },
     "metadata": {},
     "output_type": "display_data"
    }
   ],
   "source": [
    "df <- eagles\n",
    "dim(df)\n",
    "df"
   ]
  },
  {
   "cell_type": "markdown",
   "metadata": {},
   "source": [
    "### Encoding variables:"
   ]
  },
  {
   "cell_type": "code",
   "execution_count": 55,
   "metadata": {},
   "outputs": [
    {
     "data": {
      "text/html": [
       "<table>\n",
       "<thead><tr><th scope=col>y</th><th scope=col>n</th><th scope=col>P</th><th scope=col>A</th><th scope=col>V</th></tr></thead>\n",
       "<tbody>\n",
       "\t<tr><td>17</td><td>24</td><td>1 </td><td>1 </td><td>1 </td></tr>\n",
       "\t<tr><td>29</td><td>29</td><td>1 </td><td>1 </td><td>0 </td></tr>\n",
       "\t<tr><td>17</td><td>27</td><td>1 </td><td>0 </td><td>1 </td></tr>\n",
       "\t<tr><td>20</td><td>20</td><td>1 </td><td>0 </td><td>0 </td></tr>\n",
       "\t<tr><td> 1</td><td>12</td><td>0 </td><td>1 </td><td>1 </td></tr>\n",
       "\t<tr><td>15</td><td>16</td><td>0 </td><td>1 </td><td>0 </td></tr>\n",
       "\t<tr><td> 0</td><td>28</td><td>0 </td><td>0 </td><td>1 </td></tr>\n",
       "\t<tr><td> 1</td><td> 4</td><td>0 </td><td>0 </td><td>0 </td></tr>\n",
       "</tbody>\n",
       "</table>\n"
      ],
      "text/latex": [
       "\\begin{tabular}{r|lllll}\n",
       " y & n & P & A & V\\\\\n",
       "\\hline\n",
       "\t 17 & 24 & 1  & 1  & 1 \\\\\n",
       "\t 29 & 29 & 1  & 1  & 0 \\\\\n",
       "\t 17 & 27 & 1  & 0  & 1 \\\\\n",
       "\t 20 & 20 & 1  & 0  & 0 \\\\\n",
       "\t  1 & 12 & 0  & 1  & 1 \\\\\n",
       "\t 15 & 16 & 0  & 1  & 0 \\\\\n",
       "\t  0 & 28 & 0  & 0  & 1 \\\\\n",
       "\t  1 &  4 & 0  & 0  & 0 \\\\\n",
       "\\end{tabular}\n"
      ],
      "text/markdown": [
       "\n",
       "y | n | P | A | V | \n",
       "|---|---|---|---|---|---|---|---|\n",
       "| 17 | 24 | 1  | 1  | 1  | \n",
       "| 29 | 29 | 1  | 1  | 0  | \n",
       "| 17 | 27 | 1  | 0  | 1  | \n",
       "| 20 | 20 | 1  | 0  | 0  | \n",
       "|  1 | 12 | 0  | 1  | 1  | \n",
       "| 15 | 16 | 0  | 1  | 0  | \n",
       "|  0 | 28 | 0  | 0  | 1  | \n",
       "|  1 |  4 | 0  | 0  | 0  | \n",
       "\n",
       "\n"
      ],
      "text/plain": [
       "  y  n  P A V\n",
       "1 17 24 1 1 1\n",
       "2 29 29 1 1 0\n",
       "3 17 27 1 0 1\n",
       "4 20 20 1 0 0\n",
       "5  1 12 0 1 1\n",
       "6 15 16 0 1 0\n",
       "7  0 28 0 0 1\n",
       "8  1  4 0 0 0"
      ]
     },
     "metadata": {},
     "output_type": "display_data"
    }
   ],
   "source": [
    "df$P <- ifelse(df$P == 'S', 0, 1) \n",
    "df$A <- ifelse(df$A == 'I', 0, 1)\n",
    "df$V <- ifelse(df$V == 'S', 0, 1)\n",
    "df"
   ]
  },
  {
   "cell_type": "markdown",
   "metadata": {},
   "source": [
    "### Model definition:\n",
    "\n",
    "$h_i \\sim Binomial(n_i, p_i)$\n",
    "\n",
    "$logit(p_i) = \\alpha+\\beta_PP_i+\\beta_AA_i+\\beta_VV_i$\n",
    "\n",
    "$\\alpha \\sim Normal(0, 10)$\n",
    "\n",
    "$\\beta_P \\sim Normal(0, 5)$\n",
    "\n",
    "$\\beta_A \\sim Normal(0, 5)$\n",
    "\n",
    "$\\beta_V \\sim Normal(0, 5)$"
   ]
  },
  {
   "cell_type": "code",
   "execution_count": 56,
   "metadata": {},
   "outputs": [],
   "source": [
    "model <- alist(\n",
    "    y ~ dbinom(n, p),\n",
    "    logit(p) <- alpha + beta_p[P] + beta_a[A] + beta_v[V],\n",
    "    alpha ~ dnorm(0, 10),\n",
    "    beta_p[P] ~ dnorm(0, 5),\n",
    "    beta_a[A] ~ dnorm(0, 5),\n",
    "    beta_v[V] ~ dnorm(0, 5)\n",
    "    )"
   ]
  },
  {
   "cell_type": "code",
   "execution_count": 57,
   "metadata": {},
   "outputs": [],
   "source": [
    "quap_fitted <- map(model, data=df)"
   ]
  },
  {
   "cell_type": "markdown",
   "metadata": {},
   "source": [
    "### Seems that model has not been fitted well:"
   ]
  },
  {
   "cell_type": "code",
   "execution_count": 58,
   "metadata": {},
   "outputs": [
    {
     "data": {
      "text/html": [
       "<table>\n",
       "<thead><tr><th></th><th scope=col>mean</th><th scope=col>sd</th><th scope=col>5,5%</th><th scope=col>94,5%</th></tr></thead>\n",
       "<tbody>\n",
       "\t<tr><th scope=row>alpha</th><td> 0,308792890</td><td>6,547201    </td><td>-10,154898  </td><td>10,772484   </td></tr>\n",
       "\t<tr><th scope=row>beta_p[1]</th><td> 0,060391914</td><td>4,629159    </td><td> -7,337898  </td><td> 7,458682   </td></tr>\n",
       "\t<tr><th scope=row>beta_p[2]</th><td>-0,004238488</td><td>5,000000    </td><td> -7,995204  </td><td> 7,986727   </td></tr>\n",
       "\t<tr><th scope=row>beta_a[1]</th><td> 0,069117620</td><td>4,629159    </td><td> -7,329173  </td><td> 7,467408   </td></tr>\n",
       "\t<tr><th scope=row>beta_a[2]</th><td>-0,002127949</td><td>5,000000    </td><td> -7,993094  </td><td> 7,988838   </td></tr>\n",
       "\t<tr><th scope=row>beta_v[1]</th><td> 0,072439068</td><td>4,629159    </td><td> -7,325851  </td><td> 7,470729   </td></tr>\n",
       "\t<tr><th scope=row>beta_v[2]</th><td>-0,001735435</td><td>5,000000    </td><td> -7,992701  </td><td> 7,989230   </td></tr>\n",
       "</tbody>\n",
       "</table>\n"
      ],
      "text/latex": [
       "\\begin{tabular}{r|llll}\n",
       "  & mean & sd & 5,5\\% & 94,5\\%\\\\\n",
       "\\hline\n",
       "\talpha &  0,308792890 & 6,547201     & -10,154898   & 10,772484   \\\\\n",
       "\tbeta\\_p{[}1{]} &  0,060391914 & 4,629159     &  -7,337898   &  7,458682   \\\\\n",
       "\tbeta\\_p{[}2{]} & -0,004238488 & 5,000000     &  -7,995204   &  7,986727   \\\\\n",
       "\tbeta\\_a{[}1{]} &  0,069117620 & 4,629159     &  -7,329173   &  7,467408   \\\\\n",
       "\tbeta\\_a{[}2{]} & -0,002127949 & 5,000000     &  -7,993094   &  7,988838   \\\\\n",
       "\tbeta\\_v{[}1{]} &  0,072439068 & 4,629159     &  -7,325851   &  7,470729   \\\\\n",
       "\tbeta\\_v{[}2{]} & -0,001735435 & 5,000000     &  -7,992701   &  7,989230   \\\\\n",
       "\\end{tabular}\n"
      ],
      "text/markdown": [
       "\n",
       "| <!--/--> | mean | sd | 5,5% | 94,5% | \n",
       "|---|---|---|---|---|---|---|\n",
       "| alpha |  0,308792890 | 6,547201     | -10,154898   | 10,772484    | \n",
       "| beta_p[1] |  0,060391914 | 4,629159     |  -7,337898   |  7,458682    | \n",
       "| beta_p[2] | -0,004238488 | 5,000000     |  -7,995204   |  7,986727    | \n",
       "| beta_a[1] |  0,069117620 | 4,629159     |  -7,329173   |  7,467408    | \n",
       "| beta_a[2] | -0,002127949 | 5,000000     |  -7,993094   |  7,988838    | \n",
       "| beta_v[1] |  0,072439068 | 4,629159     |  -7,325851   |  7,470729    | \n",
       "| beta_v[2] | -0,001735435 | 5,000000     |  -7,992701   |  7,989230    | \n",
       "\n",
       "\n"
      ],
      "text/plain": [
       "          mean         sd       5,5%       94,5%    \n",
       "alpha      0,308792890 6,547201 -10,154898 10,772484\n",
       "beta_p[1]  0,060391914 4,629159  -7,337898  7,458682\n",
       "beta_p[2] -0,004238488 5,000000  -7,995204  7,986727\n",
       "beta_a[1]  0,069117620 4,629159  -7,329173  7,467408\n",
       "beta_a[2] -0,002127949 5,000000  -7,993094  7,988838\n",
       "beta_v[1]  0,072439068 4,629159  -7,325851  7,470729\n",
       "beta_v[2] -0,001735435 5,000000  -7,992701  7,989230"
      ]
     },
     "metadata": {},
     "output_type": "display_data"
    }
   ],
   "source": [
    "precis(quap_fitted, depth=2)"
   ]
  },
  {
   "cell_type": "code",
   "execution_count": 59,
   "metadata": {},
   "outputs": [],
   "source": [
    "post_qual <- extract.samples(quap_fitted)"
   ]
  },
  {
   "cell_type": "code",
   "execution_count": 60,
   "metadata": {},
   "outputs": [],
   "source": [
    "get_probs <- function(preds, data){\n",
    "    probs <- list()\n",
    "    for (row in 1:nrow(data)){\n",
    "        curr <- data[row,]\n",
    "        out <- (preds$alpha + \n",
    "                preds$beta_p[,-(curr[,3]+1)] + \n",
    "                preds$beta_a[,-(curr[,4]+1)] + \n",
    "                preds$beta_v[,-(curr[,5]+1)])\n",
    "        probs[[row]] <- inv_logit(out)\n",
    "    }\n",
    "    probs\n",
    "}\n",
    "\n",
    "get_counts <- function(preds, data){\n",
    "    counts <- list()\n",
    "    for (row in 1:nrow(data)){\n",
    "        curr <- data[row,]\n",
    "        out <- (preds$alpha + \n",
    "                preds$beta_p[,-(curr[,3]+1)] + \n",
    "                preds$beta_a[,-(curr[,4]+1)] + \n",
    "                preds$beta_v[,-(curr[,5]+1)])\n",
    "        probs <- inv_logit(out)\n",
    "        counts[[row]] <- data[row, 2] * probs\n",
    "    }\n",
    "    counts\n",
    "}"
   ]
  },
  {
   "cell_type": "code",
   "execution_count": 61,
   "metadata": {},
   "outputs": [],
   "source": [
    "q_probs <- get_probs(post_qual, df)\n",
    "q_counts <- get_counts(post_qual, df)"
   ]
  },
  {
   "cell_type": "code",
   "execution_count": 62,
   "metadata": {},
   "outputs": [
    {
     "data": {
      "image/png": "[encoded data removed]",
      "text/plain": [
       "Plot with title “Probability predictions”"
      ]
     },
     "metadata": {},
     "output_type": "display_data"
    }
   ],
   "source": [
    "plot(1, type=\"n\", yaxt='n', xlab=\"\", ylab=\"\", xlim=c(-0.1, 1.1), ylim=c(0, 17),\n",
    "    main='Probability predictions')\n",
    "\n",
    "y_ticks <- list()\n",
    "for (row in 1:nrow(df)){\n",
    "    mean_val <- mean(q_probs[[row]])\n",
    "    interval <- PI(q_probs[[row]], prob=0.89)\n",
    "    segments(interval[1], 2*row, interval[2], 2*row, lwd=2)\n",
    "    points(mean_val, 2*row)\n",
    "    abline(h=2*row, lty='dotted')\n",
    "    y_ticks[row] <- paste(eagles[row, 3:5], collapse='/')\n",
    "}\n",
    "axis(2, at=seq(2, 16, 2), labels=y_ticks)"
   ]
  },
  {
   "cell_type": "code",
   "execution_count": 63,
   "metadata": {},
   "outputs": [
    {
     "data": {
      "image/png": "[encoded data removed]",
      "text/plain": [
       "Plot with title “Success count predictions”"
      ]
     },
     "metadata": {},
     "output_type": "display_data"
    }
   ],
   "source": [
    "plot(1, type=\"n\", yaxt='n', xlab=\"\", ylab=\"\", xlim=c(0, 40), ylim=c(0, 17),\n",
    "    main='Success count predictions')\n",
    "\n",
    "y_ticks <- list()\n",
    "for (row in 1:nrow(df)){\n",
    "    mean_val <- mean(q_counts[[row]])\n",
    "    interval <- PI(q_counts[[row]], prob=0.89)\n",
    "    segments(interval[1], 2*row, interval[2], 2*row, lwd=2)\n",
    "    points(mean_val, 2*row)\n",
    "    abline(h=2*row, lty='dotted')\n",
    "    y_ticks[row] <- paste(eagles[row, 3:5], collapse='/')\n",
    "}\n",
    "axis(2, at=seq(2, 16, 2), labels=y_ticks)"
   ]
  },
  {
   "cell_type": "markdown",
   "metadata": {},
   "source": [
    "### Fitting with MCMC:"
   ]
  },
  {
   "cell_type": "code",
   "execution_count": 64,
   "metadata": {},
   "outputs": [
    {
     "name": "stderr",
     "output_type": "stream",
     "text": [
      "Warning message in coerce_index(d[[xvp$group]]):\n",
      "“NAs introduced by coercion”Warning message in coerce_index(d[[xvp$group]]):\n",
      "“NAs introduced by coercion”Warning message in coerce_index(d[[xvp$group]]):\n",
      "“NAs introduced by coercion”"
     ]
    },
    {
     "name": "stdout",
     "output_type": "stream",
     "text": [
      "\n",
      "SAMPLING FOR MODEL '0f5eeb0be88582383bac5d5bd64d2751' NOW (CHAIN 1).\n",
      "Chain 1: \n",
      "Chain 1: Gradient evaluation took 1.2e-05 seconds\n",
      "Chain 1: 1000 transitions using 10 leapfrog steps per transition would take 0.12 seconds.\n",
      "Chain 1: Adjust your expectations accordingly!\n",
      "Chain 1: \n",
      "Chain 1: \n",
      "Chain 1: Iteration:    1 / 2000 [  0%]  (Warmup)\n",
      "Chain 1: Iteration:  200 / 2000 [ 10%]  (Warmup)\n",
      "Chain 1: Iteration:  400 / 2000 [ 20%]  (Warmup)\n",
      "Chain 1: Iteration:  600 / 2000 [ 30%]  (Warmup)\n",
      "Chain 1: Iteration:  800 / 2000 [ 40%]  (Warmup)\n",
      "Chain 1: Iteration: 1000 / 2000 [ 50%]  (Warmup)\n",
      "Chain 1: Iteration: 1001 / 2000 [ 50%]  (Sampling)\n",
      "Chain 1: Iteration: 1200 / 2000 [ 60%]  (Sampling)\n",
      "Chain 1: Iteration: 1400 / 2000 [ 70%]  (Sampling)\n",
      "Chain 1: Iteration: 1600 / 2000 [ 80%]  (Sampling)\n",
      "Chain 1: Iteration: 1800 / 2000 [ 90%]  (Sampling)\n",
      "Chain 1: Iteration: 2000 / 2000 [100%]  (Sampling)\n",
      "Chain 1: \n",
      "Chain 1:  Elapsed Time: 0.494712 seconds (Warm-up)\n",
      "Chain 1:                0.552957 seconds (Sampling)\n",
      "Chain 1:                1.04767 seconds (Total)\n",
      "Chain 1: \n",
      "\n",
      "SAMPLING FOR MODEL '0f5eeb0be88582383bac5d5bd64d2751' NOW (CHAIN 2).\n",
      "Chain 2: \n",
      "Chain 2: Gradient evaluation took 6e-06 seconds\n",
      "Chain 2: 1000 transitions using 10 leapfrog steps per transition would take 0.06 seconds.\n",
      "Chain 2: Adjust your expectations accordingly!\n",
      "Chain 2: \n",
      "Chain 2: \n",
      "Chain 2: Iteration:    1 / 2000 [  0%]  (Warmup)\n",
      "Chain 2: Iteration:  200 / 2000 [ 10%]  (Warmup)\n",
      "Chain 2: Iteration:  400 / 2000 [ 20%]  (Warmup)\n",
      "Chain 2: Iteration:  600 / 2000 [ 30%]  (Warmup)\n",
      "Chain 2: Iteration:  800 / 2000 [ 40%]  (Warmup)\n",
      "Chain 2: Iteration: 1000 / 2000 [ 50%]  (Warmup)\n",
      "Chain 2: Iteration: 1001 / 2000 [ 50%]  (Sampling)\n",
      "Chain 2: Iteration: 1200 / 2000 [ 60%]  (Sampling)\n",
      "Chain 2: Iteration: 1400 / 2000 [ 70%]  (Sampling)\n",
      "Chain 2: Iteration: 1600 / 2000 [ 80%]  (Sampling)\n",
      "Chain 2: Iteration: 1800 / 2000 [ 90%]  (Sampling)\n",
      "Chain 2: Iteration: 2000 / 2000 [100%]  (Sampling)\n",
      "Chain 2: \n",
      "Chain 2:  Elapsed Time: 0.545581 seconds (Warm-up)\n",
      "Chain 2:                0.446647 seconds (Sampling)\n",
      "Chain 2:                0.992228 seconds (Total)\n",
      "Chain 2: \n",
      "\n",
      "SAMPLING FOR MODEL '0f5eeb0be88582383bac5d5bd64d2751' NOW (CHAIN 3).\n",
      "Chain 3: \n",
      "Chain 3: Gradient evaluation took 5e-06 seconds\n",
      "Chain 3: 1000 transitions using 10 leapfrog steps per transition would take 0.05 seconds.\n",
      "Chain 3: Adjust your expectations accordingly!\n",
      "Chain 3: \n",
      "Chain 3: \n",
      "Chain 3: Iteration:    1 / 2000 [  0%]  (Warmup)\n",
      "Chain 3: Iteration:  200 / 2000 [ 10%]  (Warmup)\n",
      "Chain 3: Iteration:  400 / 2000 [ 20%]  (Warmup)\n",
      "Chain 3: Iteration:  600 / 2000 [ 30%]  (Warmup)\n",
      "Chain 3: Iteration:  800 / 2000 [ 40%]  (Warmup)\n",
      "Chain 3: Iteration: 1000 / 2000 [ 50%]  (Warmup)\n",
      "Chain 3: Iteration: 1001 / 2000 [ 50%]  (Sampling)\n",
      "Chain 3: Iteration: 1200 / 2000 [ 60%]  (Sampling)\n",
      "Chain 3: Iteration: 1400 / 2000 [ 70%]  (Sampling)\n",
      "Chain 3: Iteration: 1600 / 2000 [ 80%]  (Sampling)\n",
      "Chain 3: Iteration: 1800 / 2000 [ 90%]  (Sampling)\n",
      "Chain 3: Iteration: 2000 / 2000 [100%]  (Sampling)\n",
      "Chain 3: \n",
      "Chain 3:  Elapsed Time: 0.467772 seconds (Warm-up)\n",
      "Chain 3:                0.439877 seconds (Sampling)\n",
      "Chain 3:                0.907649 seconds (Total)\n",
      "Chain 3: \n",
      "\n",
      "SAMPLING FOR MODEL '0f5eeb0be88582383bac5d5bd64d2751' NOW (CHAIN 4).\n",
      "Chain 4: \n",
      "Chain 4: Gradient evaluation took 2.6e-05 seconds\n",
      "Chain 4: 1000 transitions using 10 leapfrog steps per transition would take 0.26 seconds.\n",
      "Chain 4: Adjust your expectations accordingly!\n",
      "Chain 4: \n",
      "Chain 4: \n",
      "Chain 4: Iteration:    1 / 2000 [  0%]  (Warmup)\n",
      "Chain 4: Iteration:  200 / 2000 [ 10%]  (Warmup)\n",
      "Chain 4: Iteration:  400 / 2000 [ 20%]  (Warmup)\n",
      "Chain 4: Iteration:  600 / 2000 [ 30%]  (Warmup)\n",
      "Chain 4: Iteration:  800 / 2000 [ 40%]  (Warmup)\n",
      "Chain 4: Iteration: 1000 / 2000 [ 50%]  (Warmup)\n",
      "Chain 4: Iteration: 1001 / 2000 [ 50%]  (Sampling)\n",
      "Chain 4: Iteration: 1200 / 2000 [ 60%]  (Sampling)\n",
      "Chain 4: Iteration: 1400 / 2000 [ 70%]  (Sampling)\n",
      "Chain 4: Iteration: 1600 / 2000 [ 80%]  (Sampling)\n",
      "Chain 4: Iteration: 1800 / 2000 [ 90%]  (Sampling)\n",
      "Chain 4: Iteration: 2000 / 2000 [100%]  (Sampling)\n",
      "Chain 4: \n",
      "Chain 4:  Elapsed Time: 0.414102 seconds (Warm-up)\n",
      "Chain 4:                0.399153 seconds (Sampling)\n",
      "Chain 4:                0.813255 seconds (Total)\n",
      "Chain 4: \n"
     ]
    },
    {
     "name": "stderr",
     "output_type": "stream",
     "text": [
      "Computing WAIC\n"
     ]
    }
   ],
   "source": [
    "MCMC_fitted <- map2stan(model, data=eagles, chains=4)"
   ]
  },
  {
   "cell_type": "code",
   "execution_count": 65,
   "metadata": {},
   "outputs": [
    {
     "data": {
      "text/html": [
       "<table>\n",
       "<thead><tr><th></th><th scope=col>mean</th><th scope=col>sd</th><th scope=col>5,5%</th><th scope=col>94,5%</th><th scope=col>n_eff</th><th scope=col>Rhat</th></tr></thead>\n",
       "<tbody>\n",
       "\t<tr><th scope=row>alpha</th><td> 0,7766175</td><td>5,262305  </td><td>-7,469838 </td><td>9,111251  </td><td>1633,325  </td><td>1,0006647 </td></tr>\n",
       "\t<tr><th scope=row>beta_p[1]</th><td> 2,3297378</td><td>3,399823  </td><td>-3,097573 </td><td>7,761723  </td><td>1742,039  </td><td>0,9998523 </td></tr>\n",
       "\t<tr><th scope=row>beta_p[2]</th><td>-2,5262467</td><td>3,449663  </td><td>-8,081794 </td><td>2,967872  </td><td>1699,094  </td><td>0,9996655 </td></tr>\n",
       "\t<tr><th scope=row>beta_a[1]</th><td> 0,7214264</td><td>3,329830  </td><td>-4,674441 </td><td>6,030953  </td><td>1952,733  </td><td>1,0012417 </td></tr>\n",
       "\t<tr><th scope=row>beta_a[2]</th><td>-0,4266815</td><td>3,327254  </td><td>-5,716911 </td><td>4,908706  </td><td>1961,022  </td><td>1,0010524 </td></tr>\n",
       "\t<tr><th scope=row>beta_v[1]</th><td>-2,4420863</td><td>3,514118  </td><td>-8,233502 </td><td>2,901007  </td><td>1819,392  </td><td>0,9999077 </td></tr>\n",
       "\t<tr><th scope=row>beta_v[2]</th><td> 2,8403176</td><td>3,523369  </td><td>-2,894811 </td><td>8,367821  </td><td>1869,618  </td><td>1,0000275 </td></tr>\n",
       "</tbody>\n",
       "</table>\n"
      ],
      "text/latex": [
       "\\begin{tabular}{r|llllll}\n",
       "  & mean & sd & 5,5\\% & 94,5\\% & n\\_eff & Rhat\\\\\n",
       "\\hline\n",
       "\talpha &  0,7766175 & 5,262305   & -7,469838  & 9,111251   & 1633,325   & 1,0006647 \\\\\n",
       "\tbeta\\_p{[}1{]} &  2,3297378 & 3,399823   & -3,097573  & 7,761723   & 1742,039   & 0,9998523 \\\\\n",
       "\tbeta\\_p{[}2{]} & -2,5262467 & 3,449663   & -8,081794  & 2,967872   & 1699,094   & 0,9996655 \\\\\n",
       "\tbeta\\_a{[}1{]} &  0,7214264 & 3,329830   & -4,674441  & 6,030953   & 1952,733   & 1,0012417 \\\\\n",
       "\tbeta\\_a{[}2{]} & -0,4266815 & 3,327254   & -5,716911  & 4,908706   & 1961,022   & 1,0010524 \\\\\n",
       "\tbeta\\_v{[}1{]} & -2,4420863 & 3,514118   & -8,233502  & 2,901007   & 1819,392   & 0,9999077 \\\\\n",
       "\tbeta\\_v{[}2{]} &  2,8403176 & 3,523369   & -2,894811  & 8,367821   & 1869,618   & 1,0000275 \\\\\n",
       "\\end{tabular}\n"
      ],
      "text/markdown": [
       "\n",
       "| <!--/--> | mean | sd | 5,5% | 94,5% | n_eff | Rhat | \n",
       "|---|---|---|---|---|---|---|\n",
       "| alpha |  0,7766175 | 5,262305   | -7,469838  | 9,111251   | 1633,325   | 1,0006647  | \n",
       "| beta_p[1] |  2,3297378 | 3,399823   | -3,097573  | 7,761723   | 1742,039   | 0,9998523  | \n",
       "| beta_p[2] | -2,5262467 | 3,449663   | -8,081794  | 2,967872   | 1699,094   | 0,9996655  | \n",
       "| beta_a[1] |  0,7214264 | 3,329830   | -4,674441  | 6,030953   | 1952,733   | 1,0012417  | \n",
       "| beta_a[2] | -0,4266815 | 3,327254   | -5,716911  | 4,908706   | 1961,022   | 1,0010524  | \n",
       "| beta_v[1] | -2,4420863 | 3,514118   | -8,233502  | 2,901007   | 1819,392   | 0,9999077  | \n",
       "| beta_v[2] |  2,8403176 | 3,523369   | -2,894811  | 8,367821   | 1869,618   | 1,0000275  | \n",
       "\n",
       "\n"
      ],
      "text/plain": [
       "          mean       sd       5,5%      94,5%    n_eff    Rhat     \n",
       "alpha      0,7766175 5,262305 -7,469838 9,111251 1633,325 1,0006647\n",
       "beta_p[1]  2,3297378 3,399823 -3,097573 7,761723 1742,039 0,9998523\n",
       "beta_p[2] -2,5262467 3,449663 -8,081794 2,967872 1699,094 0,9996655\n",
       "beta_a[1]  0,7214264 3,329830 -4,674441 6,030953 1952,733 1,0012417\n",
       "beta_a[2] -0,4266815 3,327254 -5,716911 4,908706 1961,022 1,0010524\n",
       "beta_v[1] -2,4420863 3,514118 -8,233502 2,901007 1819,392 0,9999077\n",
       "beta_v[2]  2,8403176 3,523369 -2,894811 8,367821 1869,618 1,0000275"
      ]
     },
     "metadata": {},
     "output_type": "display_data"
    }
   ],
   "source": [
    "precis(MCMC_fitted, depth=2)"
   ]
  },
  {
   "cell_type": "code",
   "execution_count": 66,
   "metadata": {},
   "outputs": [],
   "source": [
    "mc_preds <- extract.samples(MCMC_fitted)"
   ]
  },
  {
   "cell_type": "code",
   "execution_count": 67,
   "metadata": {},
   "outputs": [],
   "source": [
    "mc_probs <- get_probs(mc_preds, df)\n",
    "mc_counts <- get_counts(mc_preds, df)"
   ]
  },
  {
   "cell_type": "code",
   "execution_count": 68,
   "metadata": {},
   "outputs": [
    {
     "data": {
      "text/html": [
       "<table>\n",
       "<thead><tr><th scope=col>y</th><th scope=col>n</th><th scope=col>P</th><th scope=col>A</th><th scope=col>V</th></tr></thead>\n",
       "<tbody>\n",
       "\t<tr><td>17</td><td>24</td><td>L </td><td>A </td><td>L </td></tr>\n",
       "\t<tr><td>29</td><td>29</td><td>L </td><td>A </td><td>S </td></tr>\n",
       "\t<tr><td>17</td><td>27</td><td>L </td><td>I </td><td>L </td></tr>\n",
       "\t<tr><td>20</td><td>20</td><td>L </td><td>I </td><td>S </td></tr>\n",
       "\t<tr><td> 1</td><td>12</td><td>S </td><td>A </td><td>L </td></tr>\n",
       "\t<tr><td>15</td><td>16</td><td>S </td><td>A </td><td>S </td></tr>\n",
       "\t<tr><td> 0</td><td>28</td><td>S </td><td>I </td><td>L </td></tr>\n",
       "\t<tr><td> 1</td><td> 4</td><td>S </td><td>I </td><td>S </td></tr>\n",
       "</tbody>\n",
       "</table>\n"
      ],
      "text/latex": [
       "\\begin{tabular}{r|lllll}\n",
       " y & n & P & A & V\\\\\n",
       "\\hline\n",
       "\t 17 & 24 & L  & A  & L \\\\\n",
       "\t 29 & 29 & L  & A  & S \\\\\n",
       "\t 17 & 27 & L  & I  & L \\\\\n",
       "\t 20 & 20 & L  & I  & S \\\\\n",
       "\t  1 & 12 & S  & A  & L \\\\\n",
       "\t 15 & 16 & S  & A  & S \\\\\n",
       "\t  0 & 28 & S  & I  & L \\\\\n",
       "\t  1 &  4 & S  & I  & S \\\\\n",
       "\\end{tabular}\n"
      ],
      "text/markdown": [
       "\n",
       "y | n | P | A | V | \n",
       "|---|---|---|---|---|---|---|---|\n",
       "| 17 | 24 | L  | A  | L  | \n",
       "| 29 | 29 | L  | A  | S  | \n",
       "| 17 | 27 | L  | I  | L  | \n",
       "| 20 | 20 | L  | I  | S  | \n",
       "|  1 | 12 | S  | A  | L  | \n",
       "| 15 | 16 | S  | A  | S  | \n",
       "|  0 | 28 | S  | I  | L  | \n",
       "|  1 |  4 | S  | I  | S  | \n",
       "\n",
       "\n"
      ],
      "text/plain": [
       "  y  n  P A V\n",
       "1 17 24 L A L\n",
       "2 29 29 L A S\n",
       "3 17 27 L I L\n",
       "4 20 20 L I S\n",
       "5  1 12 S A L\n",
       "6 15 16 S A S\n",
       "7  0 28 S I L\n",
       "8  1  4 S I S"
      ]
     },
     "metadata": {},
     "output_type": "display_data"
    }
   ],
   "source": [
    "eagles"
   ]
  },
  {
   "cell_type": "code",
   "execution_count": 69,
   "metadata": {},
   "outputs": [
    {
     "data": {
      "image/png": "[encoded data removed]",
      "text/plain": [
       "Plot with title “Probability predictions”"
      ]
     },
     "metadata": {},
     "output_type": "display_data"
    }
   ],
   "source": [
    "plot(1, type=\"n\", yaxt='n', xlab=\"\", ylab=\"\", xlim=c(-0.1, 1.1), ylim=c(0, 17),\n",
    "    main='Probability predictions')\n",
    "\n",
    "y_ticks <- list()\n",
    "for (row in 1:nrow(df)){\n",
    "    mean_val <- mean(mc_probs[[row]])\n",
    "    interval <- PI(mc_probs[[row]], prob=0.89)\n",
    "    segments(interval[1], 2*row, interval[2], 2*row, lwd=2)\n",
    "    points(mean_val, 2*row)\n",
    "    abline(h=2*row, lty='dotted')\n",
    "    y_ticks[row] <- paste(eagles[row, 3:5], collapse='/')\n",
    "}\n",
    "axis(2, at=seq(2, 16, 2), labels=y_ticks)"
   ]
  },
  {
   "cell_type": "code",
   "execution_count": 70,
   "metadata": {},
   "outputs": [
    {
     "data": {
      "image/png": "[encoded data removed]",
      "text/plain": [
       "Plot with title “Success count predictions”"
      ]
     },
     "metadata": {},
     "output_type": "display_data"
    }
   ],
   "source": [
    "plot(1, type=\"n\", yaxt='n', xlab=\"\", ylab=\"\", xlim=c(0, 40), ylim=c(0, 17),\n",
    "    main='Success count predictions')\n",
    "\n",
    "y_ticks <- list()\n",
    "for (row in 1:nrow(df)){\n",
    "    mean_val <- mean(mc_counts[[row]])\n",
    "    interval <- PI(mc_counts[[row]], prob=0.89)\n",
    "    segments(interval[1], 2*row, interval[2], 2*row, lwd=2)\n",
    "    points(mean_val, 2*row)\n",
    "    abline(h=2*row, lty='dotted')\n",
    "    y_ticks[row] <- paste(eagles[row, 3:5], collapse='/')\n",
    "}\n",
    "axis(2, at=seq(2, 16, 2), labels=y_ticks)"
   ]
  },
  {
   "cell_type": "code",
   "execution_count": 43,
   "metadata": {},
   "outputs": [
    {
     "data": {
      "image/png": "[encoded data removed]",
      "text/plain": [
       "Plot with title “Histogram of mc_preds$beta_a”"
      ]
     },
     "metadata": {},
     "output_type": "display_data"
    }
   ],
   "source": [
    "hist(mc_preds$beta_a)"
   ]
  },
  {
   "cell_type": "code",
   "execution_count": 71,
   "metadata": {},
   "outputs": [
    {
     "data": {
      "image/png": "[encoded data removed]",
      "text/plain": [
       "Plot with title “Histogram of mc_preds$beta_p”"
      ]
     },
     "metadata": {},
     "output_type": "display_data"
    }
   ],
   "source": [
    "hist(mc_preds$beta_p)"
   ]
  },
  {
   "cell_type": "code",
   "execution_count": 72,
   "metadata": {},
   "outputs": [
    {
     "data": {
      "image/png": "[encoded data removed]",
      "text/plain": [
       "Plot with title “Histogram of mc_preds$beta_a”"
      ]
     },
     "metadata": {},
     "output_type": "display_data"
    }
   ],
   "source": [
    "hist(mc_preds$beta_a)"
   ]
  },
  {
   "cell_type": "code",
   "execution_count": 73,
   "metadata": {},
   "outputs": [
    {
     "data": {
      "image/png": "[encoded data removed]",
      "text/plain": [
       "Plot with title “Histogram of mc_preds$beta_v”"
      ]
     },
     "metadata": {},
     "output_type": "display_data"
    }
   ],
   "source": [
    "hist(mc_preds$beta_v)"
   ]
  },
  {
   "cell_type": "code",
   "execution_count": null,
   "metadata": {},
   "outputs": [],
   "source": []
  }
 ],
 "metadata": {
  "kernelspec": {
   "display_name": "R",
   "language": "R",
   "name": "ir"
  },
  "language_info": {
   "codemirror_mode": "r",
   "file_extension": ".r",
   "mimetype": "text/x-r-source",
   "name": "R",
   "pygments_lexer": "r",
   "version": "3.5.1"
  }
 },
 "nbformat": 4,
 "nbformat_minor": 2
}
